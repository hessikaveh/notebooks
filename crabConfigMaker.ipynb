{
 "cells": [
  {
   "cell_type": "code",
   "execution_count": 1,
   "metadata": {
    "collapsed": true
   },
   "outputs": [],
   "source": [
    "#include <fstream>"
   ]
  },
  {
   "cell_type": "code",
   "execution_count": 2,
   "metadata": {
    "collapsed": true
   },
   "outputs": [],
   "source": [
    "#include <string.h>"
   ]
  },
  {
   "cell_type": "code",
   "execution_count": 3,
   "metadata": {
    "collapsed": true
   },
   "outputs": [],
   "source": [
    "#include <iostream>"
   ]
  },
  {
   "cell_type": "code",
   "execution_count": 4,
   "metadata": {
    "collapsed": false
   },
   "outputs": [],
   "source": [
    "#include <vector>"
   ]
  },
  {
   "cell_type": "code",
   "execution_count": 5,
   "metadata": {
    "collapsed": true
   },
   "outputs": [],
   "source": [
    "std::vector<std::string> ee_data;\n",
    "std::vector<std::string> em_data;\n",
    "std::vector<std::string> mm_data;\n",
    "int i = 0;"
   ]
  },
  {
   "cell_type": "code",
   "execution_count": 6,
   "metadata": {
    "collapsed": false
   },
   "outputs": [],
   "source": [
    "ee_data = {\n",
    "   \"/DoubleEG/Run2016B-03Feb2017_ver2-v2/MINIAOD\",\n",
    "    \"/DoubleEG/Run2016C-03Feb2017-v1/MINIAOD\",\n",
    "    \"/DoubleEG/Run2016D-03Feb2017-v1/MINIAOD\",\n",
    "    \"/DoubleEG/Run2016E-03Feb2017-v1/MINIAOD\",\n",
    "    \"/DoubleEG/Run2016F-03Feb2017-v1/MINIAOD\",\n",
    "    \"/DoubleEG/Run2016G-03Feb2017-v1/MINIAOD\",\n",
    "    \"/DoubleEG/Run2016H-03Feb2017_ver2-v1/MINIAOD\",\n",
    "    \"/DoubleEG/Run2016H-03Feb2017_ver3-v1/MINIAOD\",\n",
    "   \"/SingleElectron/Run2016B-03Feb2017_ver2-v2/MINIAOD\",\n",
    "    \"/SingleElectron/Run2016C-03Feb2017-v1/MINIAOD\",\n",
    "    \"/SingleElectron/Run2016D-03Feb2017-v1/MINIAOD\",\n",
    "    \"/SingleElectron/Run2016E-03Feb2017-v1/MINIAOD\",\n",
    "    \"/SingleElectron/Run2016F-03Feb2017-v1/MINIAOD\",\n",
    "    \"/SingleElectron/Run2016G-03Feb2017-v1/MINIAOD\",\n",
    "    \"/SingleElectron/Run2016H-03Feb2017_ver2-v1/MINIAOD\",\n",
    "    \"/SingleElectron/Run2016H-03Feb2017_ver3-v1/MINIAOD\"\n",
    "};\n"
   ]
  },
  {
   "cell_type": "code",
   "execution_count": 7,
   "metadata": {
    "collapsed": true
   },
   "outputs": [],
   "source": [
    "em_data = {\n",
    "   \"/MuonEG/Run2016B-03Feb2017_ver2-v2/MINIAOD\",\n",
    "    \"/MuonEG/Run2016C-03Feb2017-v1/MINIAOD\",\n",
    "    \"/MuonEG/Run2016D-03Feb2017-v1/MINIAOD\",\n",
    "    \"/MuonEG/Run2016E-03Feb2017-v1/MINIAOD\",\n",
    "    \"/MuonEG/Run2016F-03Feb2017-v1/MINIAOD\",\n",
    "    \"/MuonEG/Run2016G-03Feb2017-v1/MINIAOD\",\n",
    "    \"/MuonEG/Run2016H-03Feb2017_ver2-v1/MINIAOD\",\n",
    "    \"/MuonEG/Run2016H-03Feb2017_ver3-v1/MINIAOD\",\n",
    "   \"/SingleElectron/Run2016B-03Feb2017_ver2-v2/MINIAOD\",\n",
    "    \"/SingleElectron/Run2016C-03Feb2017-v1/MINIAOD\",\n",
    "    \"/SingleElectron/Run2016D-03Feb2017-v1/MINIAOD\",\n",
    "    \"/SingleElectron/Run2016E-03Feb2017-v1/MINIAOD\",\n",
    "    \"/SingleElectron/Run2016F-03Feb2017-v1/MINIAOD\",\n",
    "    \"/SingleElectron/Run2016G-03Feb2017-v1/MINIAOD\",\n",
    "    \"/SingleElectron/Run2016H-03Feb2017_ver2-v1/MINIAOD\",\n",
    "    \"/SingleElectron/Run2016H-03Feb2017_ver3-v1/MINIAOD\",\n",
    "    \"/SingleMuon/Run2016B-03Feb2017_ver2-v2/MINIAOD\",\n",
    "    \"/SingleMuon/Run2016C-03Feb2017-v1/MINIAOD\",\n",
    "    \"/SingleMuon/Run2016D-03Feb2017-v1/MINIAOD\",\n",
    "    \"/SingleMuon/Run2016E-03Feb2017-v1/MINIAOD\",\n",
    "    \"/SingleMuon/Run2016F-03Feb2017-v1/MINIAOD\",\n",
    "    \"/SingleMuon/Run2016G-03Feb2017-v1/MINIAOD\",\n",
    "    \"/SingleMuon/Run2016H-03Feb2017_ver2-v1/MINIAOD\",\n",
    "    \"/SingleMuon/Run2016H-03Feb2017_ver3-v1/MINIAOD\"\n",
    "};\n"
   ]
  },
  {
   "cell_type": "code",
   "execution_count": 8,
   "metadata": {
    "collapsed": true
   },
   "outputs": [],
   "source": [
    "mm_data = {\n",
    "   \"/DoubleMuon/Run2016B-03Feb2017_ver2-v2/MINIAOD\",\n",
    "    \"/DoubleMuon/Run2016C-03Feb2017-v1/MINIAOD\",\n",
    "    \"/DoubleMuon/Run2016D-03Feb2017-v1/MINIAOD\",\n",
    "    \"/DoubleMuon/Run2016E-03Feb2017-v1/MINIAOD\",\n",
    "    \"/DoubleMuon/Run2016F-03Feb2017-v1/MINIAOD\",\n",
    "    \"/DoubleMuon/Run2016G-03Feb2017-v1/MINIAOD\",\n",
    "    \"/DoubleMuon/Run2016H-03Feb2017_ver2-v1/MINIAOD\",\n",
    "    \"/DoubleMuon/Run2016H-03Feb2017_ver3-v1/MINIAOD\",\n",
    "   \"/SingleMuon/Run2016B-03Feb2017_ver2-v2/MINIAOD\",\n",
    "    \"/SingleMuon/Run2016C-03Feb2017-v1/MINIAOD\",\n",
    "    \"/SingleMuon/Run2016D-03Feb2017-v1/MINIAOD\",\n",
    "    \"/SingleMuon/Run2016E-03Feb2017-v1/MINIAOD\",\n",
    "    \"/SingleMuon/Run2016F-03Feb2017-v1/MINIAOD\",\n",
    "    \"/SingleMuon/Run2016G-03Feb2017-v1/MINIAOD\",\n",
    "    \"/SingleMuon/Run2016H-03Feb2017_ver2-v1/MINIAOD\",\n",
    "    \"/SingleMuon/Run2016H-03Feb2017_ver3-v1/MINIAOD\"\n",
    "};\n"
   ]
  },
  {
   "cell_type": "markdown",
   "metadata": {},
   "source": [
    "#  e e channel"
   ]
  },
  {
   "cell_type": "code",
   "execution_count": 9,
   "metadata": {
    "collapsed": false
   },
   "outputs": [],
   "source": [
    "i=0;\n",
    "for (std::vector<std::string>::const_iterator it = ee_data.begin(); it != ee_data.end(); ++it)\n",
    "{\n",
    "    std::size_t found = it->find(\"Run2016H\");\n",
    "    std::size_t found2 = it->find(\"DoubleEG\");\n",
    "    std::size_t found3 = it->find(\"SingleElectron\");\n",
    "\n",
    "    std::filebuf fb;\n",
    "    std::string str = \"crab_Data_DiEl_\" + std::to_string(i)+\".py\";\n",
    "    fb.open (str,std::ios::out);\n",
    "    std::ostream os(&fb);\n",
    "    os << \"from CRABClient.UserUtilities import config, getUsernameFromSiteDB\" << endl;\n",
    "    os << \"config = config()\" << endl;\n",
    "    os << \"config.General.requestName   = 'crabDataDiEl'\" << endl;\n",
    "    os << \"config.General.workArea = 'crab_projects'\" << endl;\n",
    "    os << \"config.General.transferOutputs = True \" << endl;\n",
    "    os << \"config.General.transferLogs = False \" << endl;\n",
    "    os << \"config.JobType.pluginName = 'Analysis' \" << endl;\n",
    "    if(found != std::string::npos && found3 != std::string::npos ){\n",
    "    os << \"config.JobType.psetName = 'test/whelicity_Data_DiEl_SE_H_cfg.py' \" << endl;\n",
    "    }\n",
    "    else if (!(found != std::string::npos) && found3 != std::string::npos)\n",
    "    {\n",
    "    os << \"config.JobType.psetName = 'test/whelicity_Data_DiEl_SE_cfg.py' \" << endl;\n",
    "    }\n",
    "    else if(found != std::string::npos ){\n",
    "    os << \"config.JobType.psetName = 'test/whelicity_Data_DiEl_H_cfg.py' \" << endl;\n",
    "    }\n",
    "    else\n",
    "    {\n",
    "    os << \"config.JobType.psetName = 'test/whelicity_Data_DiEl_cfg.py' \" << endl;\n",
    "    }\n",
    "    os << \"config.JobType.inputFiles  = ['Spring16_25nsV6_DATA_SF_AK4PFchs.txt','Spring16_25nsV6_DATA_PtResolution_AK4PFchs.txt','Spring16_25nsV6_DATA_PhiResolution_AK4PFchs.txt','pileup_distribution_moriond17.root','pileup_distribution_data16.root','Spring16_25nsV10_MC_PhiResolution_AK4PFchs.txt','Spring16_25nsV10_MC_PtResolution_AK4PFchs.txt','Spring16_25nsV10_MC_SF_AK4PFchs.txt','egammaEffi.txt_EGM2D.root','ISOEfficienciesAndSF_BCDEF.root','IDEfficienciesAndSF_BCDEF.root','TkegammaEffi.txt_EGM2D.root','Tracking_EfficienciesAndSF_BCDEFGH.root','CSVv2_Moriond17_B_H.csv','ISOEfficienciesAndSF_GH.root','IDEfficienciesAndSF_GH.root','triggerSummary_ee.root','triggerSummary_emu.root','triggerSummary_mumu.root'] \" << endl;\n",
    "    os << \"config.JobType.outputFiles = ['tree.root','sanityCheckHistos.root']\" << endl;\n",
    "    os << \"config.Data.inputDataset = '\" + *it +\"'\" << endl;\n",
    "    os << \"config.Data.inputDBS = 'global'\"  << endl;\n",
    "    os << \"config.Data.splitting = 'LumiBased'\" << endl;\n",
    "    os << \"config.Data.unitsPerJob = 40\" << endl;\n",
    "    os << \"config.Data.lumiMask = 'https://cms-service-dqm.web.cern.ch/cms-service-dqm/CAF/certification/Collisions16/13TeV/ReReco/Final/Cert_271036-284044_13TeV_23Sep2016ReReco_Collisions16_JSON.txt'\" << endl;\n",
    "    os << \"config.Data.outLFNDirBase = '/store/user/%s/' % (getUsernameFromSiteDB())\" << endl;\n",
    "    os << \"config.Data.outputDatasetTag = 'DATA'\" << endl;\n",
    "    os << \"config.Site.blacklist = ['T2_US_*']\" << endl;\n",
    "    os << \"config.Site.storageSite = 'T3_IR_IPM'\" << endl;\n",
    "    fb.close();\n",
    "    ++i;\n",
    "}"
   ]
  },
  {
   "cell_type": "markdown",
   "metadata": {},
   "source": []
  },
  {
   "cell_type": "markdown",
   "metadata": {},
   "source": [
    "#  e mu channel"
   ]
  },
  {
   "cell_type": "code",
   "execution_count": 10,
   "metadata": {
    "collapsed": true
   },
   "outputs": [],
   "source": [
    "i=0;\n",
    "for (std::vector<std::string>::const_iterator it = em_data.begin(); it != em_data.end(); ++it)\n",
    "{\n",
    "    std::size_t found = it->find(\"Run2016H\");\n",
    "    std::size_t found2 = it->find(\"SingleMuon\");\n",
    "    std::size_t found3 = it->find(\"SingleElectron\");\n",
    "\n",
    "    std::filebuf fb;\n",
    "    std::string str = \"crab_Data_ElMu_\" + std::to_string(i)+\".py\";\n",
    "    fb.open (str,std::ios::out);\n",
    "    std::ostream os(&fb);\n",
    "    os << \"from CRABClient.UserUtilities import config, getUsernameFromSiteDB\" << endl;\n",
    "    os << \"config = config()\" << endl;\n",
    "    os << \"config.General.requestName   = 'crabDataDiEl'\" << endl;\n",
    "    os << \"config.General.workArea = 'crab_projects'\" << endl;\n",
    "    os << \"config.General.transferOutputs = True \" << endl;\n",
    "    os << \"config.General.transferLogs = False \" << endl;\n",
    "    os << \"config.JobType.pluginName = 'Analysis' \" << endl;\n",
    "    if(found != std::string::npos && found3 != std::string::npos ){\n",
    "    os << \"config.JobType.psetName = 'test/whelicity_Data_ElMu_SE_H_cfg.py' \" << endl;\n",
    "    }\n",
    "    else if (!(found != std::string::npos) && found3 != std::string::npos)\n",
    "    {\n",
    "    os << \"config.JobType.psetName = 'test/whelicity_Data_ElMu_SE_cfg.py' \" << endl;\n",
    "    }\n",
    "    else if(found != std::string::npos && found2 != std::string::npos ){\n",
    "    os << \"config.JobType.psetName = 'test/whelicity_Data_ElMu_SM_H_cfg.py' \" << endl;\n",
    "    }\n",
    "    else if (!(found != std::string::npos) && found2 != std::string::npos)\n",
    "    {\n",
    "    os << \"config.JobType.psetName = 'test/whelicity_Data_ElMu_SM_cfg.py' \" << endl;\n",
    "    }\n",
    "    else if(found2 != std::string::npos && !(found3 != std::string::npos) && !(found != std::string::npos) ){\n",
    "    os << \"config.JobType.psetName = 'test/whelicity_Data_ElMu_H_cfg.py' \" << endl;\n",
    "    }\n",
    "    else\n",
    "    {\n",
    "    os << \"config.JobType.psetName = 'test/whelicity_Data_ElMu_cfg.py' \" << endl;\n",
    "    }\n",
    "    os << \"config.JobType.inputFiles  = ['Spring16_25nsV6_DATA_SF_AK4PFchs.txt','Spring16_25nsV6_DATA_PtResolution_AK4PFchs.txt','Spring16_25nsV6_DATA_PhiResolution_AK4PFchs.txt','pileup_distribution_moriond17.root','pileup_distribution_data16.root','Spring16_25nsV10_MC_PhiResolution_AK4PFchs.txt','Spring16_25nsV10_MC_PtResolution_AK4PFchs.txt','Spring16_25nsV10_MC_SF_AK4PFchs.txt','egammaEffi.txt_EGM2D.root','ISOEfficienciesAndSF_BCDEF.root','IDEfficienciesAndSF_BCDEF.root','TkegammaEffi.txt_EGM2D.root','Tracking_EfficienciesAndSF_BCDEFGH.root','CSVv2_Moriond17_B_H.csv','ISOEfficienciesAndSF_GH.root','IDEfficienciesAndSF_GH.root','triggerSummary_ee.root','triggerSummary_emu.root','triggerSummary_mumu.root'] \" << endl;\n",
    "    os << \"config.JobType.outputFiles = ['tree.root','sanityCheckHistos.root']\" << endl;\n",
    "    os << \"config.Data.inputDataset = '\" + *it +\"'\" << endl;\n",
    "    os << \"config.Data.inputDBS = 'global'\"  << endl;\n",
    "    os << \"config.Data.splitting = 'LumiBased'\" << endl;\n",
    "    os << \"config.Data.unitsPerJob = 40\" << endl;\n",
    "    os << \"config.Data.lumiMask = 'https://cms-service-dqm.web.cern.ch/cms-service-dqm/CAF/certification/Collisions16/13TeV/ReReco/Final/Cert_271036-284044_13TeV_23Sep2016ReReco_Collisions16_JSON.txt'\" << endl;\n",
    "    os << \"config.Data.outLFNDirBase = '/store/user/%s/' % (getUsernameFromSiteDB())\" << endl;\n",
    "    os << \"config.Data.outputDatasetTag = 'DATA'\" << endl;\n",
    "    os << \"config.Site.blacklist = ['T2_US_*']\" << endl;\n",
    "    os << \"config.Site.storageSite = 'T3_IR_IPM'\" << endl;\n",
    "    fb.close();\n",
    "    ++i;\n",
    "}"
   ]
  },
  {
   "cell_type": "markdown",
   "metadata": {},
   "source": [
    "#  mu mu channel"
   ]
  },
  {
   "cell_type": "code",
   "execution_count": 11,
   "metadata": {
    "collapsed": true
   },
   "outputs": [],
   "source": [
    "i=0;\n",
    "for (std::vector<std::string>::const_iterator it = mm_data.begin(); it != mm_data.end(); ++it)\n",
    "{\n",
    "    std::size_t found = it->find(\"Run2016H\");\n",
    "    std::size_t found2 = it->find(\"mkkkjk\");\n",
    "    std::size_t found3 = it->find(\"SingleMuon\");\n",
    "\n",
    "    std::filebuf fb;\n",
    "    std::string str = \"crab_Data_DiMu_\" + std::to_string(i)+\".py\";\n",
    "    fb.open (str,std::ios::out);\n",
    "    std::ostream os(&fb);\n",
    "    os << \"from CRABClient.UserUtilities import config, getUsernameFromSiteDB\" << endl;\n",
    "    os << \"config = config()\" << endl;\n",
    "    os << \"config.General.requestName   = 'crabDataDiMu'\" << endl;\n",
    "    os << \"config.General.workArea = 'crab_projects'\" << endl;\n",
    "    os << \"config.General.transferOutputs = True \" << endl;\n",
    "    os << \"config.General.transferLogs = False \" << endl;\n",
    "    os << \"config.JobType.pluginName = 'Analysis' \" << endl;\n",
    "    if(found != std::string::npos && found3 != std::string::npos ){\n",
    "    os << \"config.JobType.psetName = 'test/whelicity_Data_DiMu_SM_H_cfg.py' \" << endl;\n",
    "    }\n",
    "    else if (!(found != std::string::npos) && found3 != std::string::npos)\n",
    "    {\n",
    "    os << \"config.JobType.psetName = 'test/whelicity_Data_DiMu_SM_cfg.py' \" << endl;\n",
    "    }\n",
    "    else if(found != std::string::npos ){\n",
    "    os << \"config.JobType.psetName = 'test/whelicity_Data_DiMu_H_cfg.py' \" << endl;\n",
    "    }\n",
    "    else\n",
    "    {\n",
    "    os << \"config.JobType.psetName = 'test/whelicity_Data_DiMu_cfg.py' \" << endl;\n",
    "    }\n",
    "    os << \"config.JobType.inputFiles  = ['Spring16_25nsV6_DATA_SF_AK4PFchs.txt','Spring16_25nsV6_DATA_PtResolution_AK4PFchs.txt','Spring16_25nsV6_DATA_PhiResolution_AK4PFchs.txt','pileup_distribution_moriond17.root','pileup_distribution_data16.root','Spring16_25nsV10_MC_PhiResolution_AK4PFchs.txt','Spring16_25nsV10_MC_PtResolution_AK4PFchs.txt','Spring16_25nsV10_MC_SF_AK4PFchs.txt','egammaEffi.txt_EGM2D.root','ISOEfficienciesAndSF_BCDEF.root','IDEfficienciesAndSF_BCDEF.root','TkegammaEffi.txt_EGM2D.root','Tracking_EfficienciesAndSF_BCDEFGH.root','CSVv2_Moriond17_B_H.csv','ISOEfficienciesAndSF_GH.root','IDEfficienciesAndSF_GH.root','triggerSummary_ee.root','triggerSummary_emu.root','triggerSummary_mumu.root'] \" << endl;\n",
    "    os << \"config.JobType.outputFiles = ['tree.root','sanityCheckHistos.root']\" << endl;\n",
    "    os << \"config.Data.inputDataset = '\" + *it +\"'\" << endl;\n",
    "    os << \"config.Data.inputDBS = 'global'\"  << endl;\n",
    "    os << \"config.Data.splitting = 'LumiBased'\" << endl;\n",
    "    os << \"config.Data.unitsPerJob = 40\" << endl;\n",
    "    os << \"config.Data.lumiMask = 'https://cms-service-dqm.web.cern.ch/cms-service-dqm/CAF/certification/Collisions16/13TeV/ReReco/Final/Cert_271036-284044_13TeV_23Sep2016ReReco_Collisions16_JSON.txt'\" << endl;\n",
    "    os << \"config.Data.outLFNDirBase = '/store/user/%s/' % (getUsernameFromSiteDB())\" << endl;\n",
    "    os << \"config.Data.outputDatasetTag = 'DATA'\" << endl;\n",
    "    os << \"config.Site.blacklist = ['T2_US_*']\" << endl;\n",
    "    os << \"config.Site.storageSite = 'T3_IR_IPM'\" << endl;\n",
    "    fb.close();\n",
    "    ++i;\n",
    "}"
   ]
  },
  {
   "cell_type": "code",
   "execution_count": null,
   "metadata": {
    "collapsed": true
   },
   "outputs": [],
   "source": []
  },
  {
   "cell_type": "code",
   "execution_count": null,
   "metadata": {
    "collapsed": true
   },
   "outputs": [],
   "source": []
  },
  {
   "cell_type": "code",
   "execution_count": null,
   "metadata": {
    "collapsed": true
   },
   "outputs": [],
   "source": []
  }
 ],
 "metadata": {
  "anaconda-cloud": {},
  "kernelspec": {
   "display_name": "ROOT C++",
   "language": "c++",
   "name": "root"
  },
  "language_info": {
   "codemirror_mode": "text/x-c++src",
   "file_extension": ".C",
   "mimetype": " text/x-c++src",
   "name": "c++"
  }
 },
 "nbformat": 4,
 "nbformat_minor": 1
}
