{
 "cells": [
  {
   "cell_type": "code",
   "execution_count": 1,
   "metadata": {
    "collapsed": true
   },
   "outputs": [],
   "source": [
    "#include <fstream>"
   ]
  },
  {
   "cell_type": "code",
   "execution_count": 2,
   "metadata": {
    "collapsed": true
   },
   "outputs": [],
   "source": [
    "#include <string.h>"
   ]
  },
  {
   "cell_type": "code",
   "execution_count": 3,
   "metadata": {
    "collapsed": true
   },
   "outputs": [],
   "source": [
    "#include <iostream>"
   ]
  },
  {
   "cell_type": "code",
   "execution_count": 4,
   "metadata": {
    "collapsed": false
   },
   "outputs": [],
   "source": [
    "#include <vector>"
   ]
  },
  {
   "cell_type": "code",
   "execution_count": 5,
   "metadata": {
    "collapsed": true
   },
   "outputs": [],
   "source": [
    "std::vector<std::string> MCSamples;"
   ]
  },
  {
   "cell_type": "code",
   "execution_count": 6,
   "metadata": {
    "collapsed": false
   },
   "outputs": [],
   "source": [
    "MCSamples = {\n",
    "    \"/TT_TuneCUETP8M2T4_13TeV-powheg-pythia8/RunIISummer16MiniAODv2-PUMoriond17_80X_mcRun2_asymptotic_2016_TrancheIV_v6-v1/MINIAODSIM\",\n",
    "    \"/ST_tW_antitop_5f_inclusiveDecays_13TeV-powheg-pythia8_TuneCUETP8M2T4/RunIISummer16MiniAODv2-PUMoriond17_80X_mcRun2_asymptotic_2016_TrancheIV_v6-v1/MINIAODSIM\",\n",
    "    \"/ST_tW_top_5f_inclusiveDecays_13TeV-powheg-pythia8_TuneCUETP8M2T4/RunIISummer16MiniAODv2-PUMoriond17_80X_mcRun2_asymptotic_2016_TrancheIV_v6-v1/MINIAODSIM\",\n",
    "    \"/WW_TuneCUETP8M1_13TeV-pythia8/RunIISummer16MiniAODv2-PUMoriond17_80X_mcRun2_asymptotic_2016_TrancheIV_v6-v1/MINIAODSIM\" ,\n",
    "    \"/WZ_TuneCUETP8M1_13TeV-pythia8/RunIISummer16MiniAODv2-PUMoriond17_80X_mcRun2_asymptotic_2016_TrancheIV_v6-v1/MINIAODSIM\",\n",
    "    \"/ZZ_TuneCUETP8M1_13TeV-pythia8/RunIISummer16MiniAODv2-PUMoriond17_80X_mcRun2_asymptotic_2016_TrancheIV_v6-v1/MINIAODSIM\",\n",
    "    \"/WJetsToLNu_TuneCUETP8M1_13TeV-amcatnloFXFX-pythia8/RunIISummer16MiniAODv2-PUMoriond17_80X_mcRun2_asymptotic_2016_TrancheIV_v6_ext2-v2/MINIAODSIM\",\n",
    "    \"/DYJetsToLL_M-10to50_TuneCUETP8M1_13TeV-madgraphMLM-pythia8/RunIISummer16MiniAODv2-PUMoriond17_80X_mcRun2_asymptotic_2016_TrancheIV_v6-v1/MINIAODSIM\",\n",
    "    \"/DYJetsToLL_M-50_TuneCUETP8M1_13TeV-madgraphMLM-pythia8/RunIISummer16MiniAODv2-PUMoriond17_80X_mcRun2_asymptotic_2016_TrancheIV_v6_ext1-v2/MINIAODSIM\",\n",
    "    \"/TTWJetsToLNu_TuneCUETP8M1_13TeV-amcatnloFXFX-madspin-pythia8/RunIISummer16MiniAODv2-PUMoriond17_80X_mcRun2_asymptotic_2016_TrancheIV_v6_ext1-v3/MINIAODSIM\",\n",
    "    \"/TTWJetsToQQ_TuneCUETP8M1_13TeV-amcatnloFXFX-madspin-pythia8/RunIISummer16MiniAODv2-PUMoriond17_80X_mcRun2_asymptotic_2016_TrancheIV_v6-v1/MINIAODSIM\",\n",
    "    \"/TTZToQQ_TuneCUETP8M1_13TeV-amcatnlo-pythia8/RunIISummer16MiniAODv2-PUMoriond17_80X_mcRun2_asymptotic_2016_TrancheIV_v6-v1/MINIAODSIM\",\n",
    "    \"/TTZToLLNuNu_M-10_TuneCUETP8M1_13TeV-amcatnlo-pythia8/RunIISummer16MiniAODv2-PUMoriond17_80X_mcRun2_asymptotic_2016_TrancheIV_v6_ext3-v1/MINIAODSIM\"\n",
    "    \n",
    "};\n",
    "int i = 0;"
   ]
  },
  {
   "cell_type": "markdown",
   "metadata": {},
   "source": [
    "# Template"
   ]
  },
  {
   "cell_type": "code",
   "execution_count": 7,
   "metadata": {
    "collapsed": false
   },
   "outputs": [],
   "source": [
    "i=0;\n",
    "for (std::vector<std::string>::const_iterator it = MCSamples.begin(); it != MCSamples.end(); ++it)\n",
    "{\n",
    "    std::size_t found = it->find(\"madgraph\");\n",
    "    std::size_t found2 = it->find(\"amcatnlo\");\n",
    "\n",
    "    std::filebuf fb;\n",
    "    std::string str = \"crab_MC_\" + std::to_string(i)+\".py\";\n",
    "    fb.open (str,std::ios::out);\n",
    "    std::ostream os(&fb);\n",
    "    os << \"from CRABClient.UserUtilities import config, getUsernameFromSiteDB\" << endl;\n",
    "    os << \"config = config()\" << endl;\n",
    "    os << \"config.General.requestName   = 'crabMC'\" << endl;\n",
    "    os << \"config.General.workArea = 'crab_projects'\" << endl;\n",
    "    os << \"config.General.transferOutputs = True \" << endl;\n",
    "    os << \"config.General.transferLogs = False \" << endl;\n",
    "    os << \"config.JobType.pluginName = 'Analysis' \" << endl;\n",
    "    if(found != std::string::npos ){\n",
    "    os << \"config.JobType.psetName = 'test/whelicity_madgraph_cfg.py' \" << endl;\n",
    "    }\n",
    "    else if(found2 != std::string::npos ){\n",
    "    os << \"config.JobType.psetName = 'test/whelicity_madgraph_cfg.py' \" << endl;\n",
    "    }\n",
    "    else\n",
    "    {\n",
    "    os << \"config.JobType.psetName = 'test/whelicity_pythia_cfg.py' \" << endl;\n",
    "    }\n",
    "    os << \"config.JobType.inputFiles  = ['Spring16_25nsV6_DATA_SF_AK4PFchs.txt','Spring16_25nsV6_DATA_PtResolution_AK4PFchs.txt','Spring16_25nsV6_DATA_PhiResolution_AK4PFchs.txt','pileup_distribution_moriond17.root','pileup_distribution_data16.root','Spring16_25nsV10_MC_PhiResolution_AK4PFchs.txt','Spring16_25nsV10_MC_PtResolution_AK4PFchs.txt','Spring16_25nsV10_MC_SF_AK4PFchs.txt','egammaEffi.txt_EGM2D.root','ISOEfficienciesAndSF_BCDEF.root','IDEfficienciesAndSF_BCDEF.root','TkegammaEffi.txt_EGM2D.root','Tracking_EfficienciesAndSF_BCDEFGH.root','CSVv2_Moriond17_B_H.csv','ISOEfficienciesAndSF_GH.root','IDEfficienciesAndSF_GH.root','triggerSummary_ee.root','triggerSummary_emu.root','triggerSummary_mumu.root'] \" << endl;\n",
    "    os << \"config.JobType.outputFiles = ['tree.root','sanityCheckHistos.root']\" << endl;\n",
    "    os << \"config.Data.inputDataset = '\" + *it +\"'\" << endl;\n",
    "    os << \"config.Data.inputDBS = 'global'\"  << endl;\n",
    "    os << \"config.Data.splitting = 'FileBased'\" << endl;\n",
    "    os << \"config.Data.unitsPerJob = 1\" << endl;\n",
    "    os << \"config.Data.outLFNDirBase = '/store/user/%s/' % (getUsernameFromSiteDB())\" << endl;\n",
    "    os << \"config.Data.outputDatasetTag = 'MC'\" << endl;\n",
    "    os << \"config.Site.blacklist = ['T2_US_*']\" << endl;\n",
    "    os << \"config.Site.storageSite = 'T3_IR_IPM'\" << endl;\n",
    "    fb.close();\n",
    "    ++i;\n",
    "}"
   ]
  },
  {
   "cell_type": "markdown",
   "metadata": {},
   "source": [
    "#  e e channel"
   ]
  },
  {
   "cell_type": "code",
   "execution_count": 8,
   "metadata": {
    "collapsed": true
   },
   "outputs": [],
   "source": [
    "i=0;\n",
    "for (std::vector<std::string>::const_iterator it = MCSamples.begin(); it != MCSamples.end(); ++it)\n",
    "{\n",
    "    std::size_t found = it->find(\"madgraph\");\n",
    "    std::size_t found2 = it->find(\"amcatnlo\");\n",
    "\n",
    "    std::filebuf fb;\n",
    "    std::string str = \"crab_MC_DiEl_\" + std::to_string(i)+\".py\";\n",
    "    fb.open (str,std::ios::out);\n",
    "    std::ostream os(&fb);\n",
    "    os << \"from CRABClient.UserUtilities import config, getUsernameFromSiteDB\" << endl;\n",
    "    os << \"config = config()\" << endl;\n",
    "    os << \"config.General.requestName   = 'crabMC'\" << endl;\n",
    "    os << \"config.General.workArea = 'crab_projects'\" << endl;\n",
    "    os << \"config.General.transferOutputs = True \" << endl;\n",
    "    os << \"config.General.transferLogs = False \" << endl;\n",
    "    os << \"config.JobType.pluginName = 'Analysis' \" << endl;\n",
    "    if(found != std::string::npos ){\n",
    "    os << \"config.JobType.psetName = 'test/whelicity_madgraph_DiEl_cfg.py' \" << endl;\n",
    "    }\n",
    "    else if(found2 != std::string::npos ){\n",
    "    os << \"config.JobType.psetName = 'test/whelicity_madgraph_DiEl_cfg.py' \" << endl;\n",
    "    }\n",
    "    else\n",
    "    {\n",
    "    os << \"config.JobType.psetName = 'test/whelicity_pythia_DiEl_cfg.py' \" << endl;\n",
    "    }\n",
    "    os << \"config.JobType.inputFiles  = ['Spring16_25nsV6_DATA_SF_AK4PFchs.txt','Spring16_25nsV6_DATA_PtResolution_AK4PFchs.txt','Spring16_25nsV6_DATA_PhiResolution_AK4PFchs.txt','pileup_distribution_moriond17.root','pileup_distribution_data16.root','Spring16_25nsV10_MC_PhiResolution_AK4PFchs.txt','Spring16_25nsV10_MC_PtResolution_AK4PFchs.txt','Spring16_25nsV10_MC_SF_AK4PFchs.txt','egammaEffi.txt_EGM2D.root','ISOEfficienciesAndSF_BCDEF.root','IDEfficienciesAndSF_BCDEF.root','TkegammaEffi.txt_EGM2D.root','Tracking_EfficienciesAndSF_BCDEFGH.root','CSVv2_Moriond17_B_H.csv','ISOEfficienciesAndSF_GH.root','IDEfficienciesAndSF_GH.root','triggerSummary_ee.root','triggerSummary_emu.root','triggerSummary_mumu.root'] \" << endl;\n",
    "    os << \"config.JobType.outputFiles = ['tree.root','sanityCheckHistos.root']\" << endl;\n",
    "    os << \"config.Data.inputDataset = '\" + *it +\"'\" << endl;\n",
    "    os << \"config.Data.inputDBS = 'global'\"  << endl;\n",
    "    os << \"config.Data.splitting = 'FileBased'\" << endl;\n",
    "    os << \"config.Data.unitsPerJob = 1\" << endl;\n",
    "    os << \"config.Data.outLFNDirBase = '/store/user/%s/' % (getUsernameFromSiteDB())\" << endl;\n",
    "    os << \"config.Data.outputDatasetTag = 'MC'\" << endl;\n",
    "    os << \"config.Site.blacklist = ['T2_US_*']\" << endl;\n",
    "    os << \"config.Site.storageSite = 'T3_IR_IPM'\" << endl;\n",
    "    fb.close();\n",
    "    ++i;\n",
    "}"
   ]
  },
  {
   "cell_type": "code",
   "execution_count": 9,
   "metadata": {
    "collapsed": true
   },
   "outputs": [],
   "source": [
    "i=0;\n",
    "for (std::vector<std::string>::const_iterator it = MCSamples.begin(); it != MCSamples.end(); ++it)\n",
    "{\n",
    "    std::size_t found = it->find(\"madgraph\");\n",
    "    std::size_t found2 = it->find(\"amcatnlo\");\n",
    "\n",
    "    std::filebuf fb;\n",
    "    std::string str = \"crab_MC_DiEl_GH_\" + std::to_string(i)+\".py\";\n",
    "    fb.open (str,std::ios::out);\n",
    "    std::ostream os(&fb);\n",
    "    os << \"from CRABClient.UserUtilities import config, getUsernameFromSiteDB\" << endl;\n",
    "    os << \"config = config()\" << endl;\n",
    "    os << \"config.General.requestName   = 'crabMC'\" << endl;\n",
    "    os << \"config.General.workArea = 'crab_projects'\" << endl;\n",
    "    os << \"config.General.transferOutputs = True \" << endl;\n",
    "    os << \"config.General.transferLogs = False \" << endl;\n",
    "    os << \"config.JobType.pluginName = 'Analysis' \" << endl;\n",
    "    if(found != std::string::npos ){\n",
    "    os << \"config.JobType.psetName = 'test/whelicity_madgraph_DiEl_GH_cfg.py' \" << endl;\n",
    "    }\n",
    "    else if(found2 != std::string::npos ){\n",
    "    os << \"config.JobType.psetName = 'test/whelicity_madgraph_DiEl_GH_cfg.py' \" << endl;\n",
    "    }\n",
    "    else\n",
    "    {\n",
    "    os << \"config.JobType.psetName = 'test/whelicity_pythia_DiEl_GH_cfg.py' \" << endl;\n",
    "    }\n",
    "    os << \"config.JobType.inputFiles  = ['Spring16_25nsV6_DATA_SF_AK4PFchs.txt','Spring16_25nsV6_DATA_PtResolution_AK4PFchs.txt','Spring16_25nsV6_DATA_PhiResolution_AK4PFchs.txt','pileup_distribution_moriond17.root','pileup_distribution_data16.root','Spring16_25nsV10_MC_PhiResolution_AK4PFchs.txt','Spring16_25nsV10_MC_PtResolution_AK4PFchs.txt','Spring16_25nsV10_MC_SF_AK4PFchs.txt','egammaEffi.txt_EGM2D.root','ISOEfficienciesAndSF_BCDEF.root','IDEfficienciesAndSF_BCDEF.root','TkegammaEffi.txt_EGM2D.root','Tracking_EfficienciesAndSF_BCDEFGH.root','CSVv2_Moriond17_B_H.csv','ISOEfficienciesAndSF_GH.root','IDEfficienciesAndSF_GH.root','triggerSummary_ee.root','triggerSummary_emu.root','triggerSummary_mumu.root'] \" << endl;\n",
    "    os << \"config.JobType.outputFiles = ['tree.root','sanityCheckHistos.root']\" << endl;\n",
    "    os << \"config.Data.inputDataset = '\" + *it +\"'\" << endl;\n",
    "    os << \"config.Data.inputDBS = 'global'\"  << endl;\n",
    "    os << \"config.Data.splitting = 'FileBased'\" << endl;\n",
    "    os << \"config.Data.unitsPerJob = 1\" << endl;\n",
    "    os << \"config.Data.outLFNDirBase = '/store/user/%s/' % (getUsernameFromSiteDB())\" << endl;\n",
    "    os << \"config.Data.outputDatasetTag = 'MC'\" << endl;\n",
    "    os << \"config.Site.blacklist = ['T2_US_*']\" << endl;\n",
    "    os << \"config.Site.storageSite = 'T3_IR_IPM'\" << endl;\n",
    "    fb.close();\n",
    "    ++i;\n",
    "}"
   ]
  },
  {
   "cell_type": "markdown",
   "metadata": {},
   "source": [
    "#  e mu channel"
   ]
  },
  {
   "cell_type": "code",
   "execution_count": 10,
   "metadata": {
    "collapsed": true
   },
   "outputs": [],
   "source": [
    "i=0;\n",
    "for (std::vector<std::string>::const_iterator it = MCSamples.begin(); it != MCSamples.end(); ++it)\n",
    "{\n",
    "    std::size_t found = it->find(\"madgraph\");\n",
    "    std::size_t found2 = it->find(\"amcatnlo\");\n",
    "\n",
    "    std::filebuf fb;\n",
    "    std::string str = \"crab_MC_ElMu_\" + std::to_string(i)+\".py\";\n",
    "    fb.open (str,std::ios::out);\n",
    "    std::ostream os(&fb);\n",
    "    os << \"from CRABClient.UserUtilities import config, getUsernameFromSiteDB\" << endl;\n",
    "    os << \"config = config()\" << endl;\n",
    "    os << \"config.General.requestName   = 'crabMC'\" << endl;\n",
    "    os << \"config.General.workArea = 'crab_projects'\" << endl;\n",
    "    os << \"config.General.transferOutputs = True \" << endl;\n",
    "    os << \"config.General.transferLogs = False \" << endl;\n",
    "    os << \"config.JobType.pluginName = 'Analysis' \" << endl;\n",
    "    if(found != std::string::npos ){\n",
    "    os << \"config.JobType.psetName = 'test/whelicity_madgraph_ElMu_cfg.py' \" << endl;\n",
    "    }\n",
    "    else if(found2 != std::string::npos ){\n",
    "    os << \"config.JobType.psetName = 'test/whelicity_madgraph_ElMu_cfg.py' \" << endl;\n",
    "    }\n",
    "    else\n",
    "    {\n",
    "    os << \"config.JobType.psetName = 'test/whelicity_pythia_ElMu_cfg.py' \" << endl;\n",
    "    }\n",
    "    os << \"config.JobType.inputFiles  = ['Spring16_25nsV6_DATA_SF_AK4PFchs.txt','Spring16_25nsV6_DATA_PtResolution_AK4PFchs.txt','Spring16_25nsV6_DATA_PhiResolution_AK4PFchs.txt','pileup_distribution_moriond17.root','pileup_distribution_data16.root','Spring16_25nsV10_MC_PhiResolution_AK4PFchs.txt','Spring16_25nsV10_MC_PtResolution_AK4PFchs.txt','Spring16_25nsV10_MC_SF_AK4PFchs.txt','egammaEffi.txt_EGM2D.root','ISOEfficienciesAndSF_BCDEF.root','IDEfficienciesAndSF_BCDEF.root','TkegammaEffi.txt_EGM2D.root','Tracking_EfficienciesAndSF_BCDEFGH.root','CSVv2_Moriond17_B_H.csv','ISOEfficienciesAndSF_GH.root','IDEfficienciesAndSF_GH.root','triggerSummary_ee.root','triggerSummary_emu.root','triggerSummary_mumu.root'] \" << endl;\n",
    "    os << \"config.JobType.outputFiles = ['tree.root','sanityCheckHistos.root']\" << endl;\n",
    "    os << \"config.Data.inputDataset = '\" + *it +\"'\" << endl;\n",
    "    os << \"config.Data.inputDBS = 'global'\"  << endl;\n",
    "    os << \"config.Data.splitting = 'FileBased'\" << endl;\n",
    "    os << \"config.Data.unitsPerJob = 1\" << endl;\n",
    "    os << \"config.Data.outLFNDirBase = '/store/user/%s/' % (getUsernameFromSiteDB())\" << endl;\n",
    "    os << \"config.Data.outputDatasetTag = 'MC'\" << endl;\n",
    "    os << \"config.Site.blacklist = ['T2_US_*']\" << endl;\n",
    "    os << \"config.Site.storageSite = 'T3_IR_IPM'\" << endl;\n",
    "    fb.close();\n",
    "    ++i;\n",
    "}"
   ]
  },
  {
   "cell_type": "code",
   "execution_count": 11,
   "metadata": {
    "collapsed": true
   },
   "outputs": [],
   "source": [
    "i=0;\n",
    "for (std::vector<std::string>::const_iterator it = MCSamples.begin(); it != MCSamples.end(); ++it)\n",
    "{\n",
    "    std::size_t found = it->find(\"madgraph\");\n",
    "    std::size_t found2 = it->find(\"amcatnlo\");\n",
    "\n",
    "    std::filebuf fb;\n",
    "    std::string str = \"crab_MC_ElMu_GH_\" + std::to_string(i)+\".py\";\n",
    "    fb.open (str,std::ios::out);\n",
    "    std::ostream os(&fb);\n",
    "    os << \"from CRABClient.UserUtilities import config, getUsernameFromSiteDB\" << endl;\n",
    "    os << \"config = config()\" << endl;\n",
    "    os << \"config.General.requestName   = 'crabMC'\" << endl;\n",
    "    os << \"config.General.workArea = 'crab_projects'\" << endl;\n",
    "    os << \"config.General.transferOutputs = True \" << endl;\n",
    "    os << \"config.General.transferLogs = False \" << endl;\n",
    "    os << \"config.JobType.pluginName = 'Analysis' \" << endl;\n",
    "    if(found != std::string::npos ){\n",
    "    os << \"config.JobType.psetName = 'test/whelicity_madgraph_ElMu_GH_cfg.py' \" << endl;\n",
    "    }\n",
    "    else if(found2 != std::string::npos ){\n",
    "    os << \"config.JobType.psetName = 'test/whelicity_madgraph_ElMu_GH_cfg.py' \" << endl;\n",
    "    }\n",
    "    else\n",
    "    {\n",
    "    os << \"config.JobType.psetName = 'test/whelicity_pythia_ElMu_GH_cfg.py' \" << endl;\n",
    "    }\n",
    "    os << \"config.JobType.inputFiles  = ['Spring16_25nsV6_DATA_SF_AK4PFchs.txt','Spring16_25nsV6_DATA_PtResolution_AK4PFchs.txt','Spring16_25nsV6_DATA_PhiResolution_AK4PFchs.txt','pileup_distribution_moriond17.root','pileup_distribution_data16.root','Spring16_25nsV10_MC_PhiResolution_AK4PFchs.txt','Spring16_25nsV10_MC_PtResolution_AK4PFchs.txt','Spring16_25nsV10_MC_SF_AK4PFchs.txt','egammaEffi.txt_EGM2D.root','ISOEfficienciesAndSF_BCDEF.root','IDEfficienciesAndSF_BCDEF.root','TkegammaEffi.txt_EGM2D.root','Tracking_EfficienciesAndSF_BCDEFGH.root','CSVv2_Moriond17_B_H.csv','ISOEfficienciesAndSF_GH.root','IDEfficienciesAndSF_GH.root','triggerSummary_ee.root','triggerSummary_emu.root','triggerSummary_mumu.root'] \" << endl;\n",
    "    os << \"config.JobType.outputFiles = ['tree.root','sanityCheckHistos.root']\" << endl;\n",
    "    os << \"config.Data.inputDataset = '\" + *it +\"'\" << endl;\n",
    "    os << \"config.Data.inputDBS = 'global'\"  << endl;\n",
    "    os << \"config.Data.splitting = 'FileBased'\" << endl;\n",
    "    os << \"config.Data.unitsPerJob = 1\" << endl;\n",
    "    os << \"config.Data.outLFNDirBase = '/store/user/%s/' % (getUsernameFromSiteDB())\" << endl;\n",
    "    os << \"config.Data.outputDatasetTag = 'MC'\" << endl;\n",
    "    os << \"config.Site.blacklist = ['T2_US_*']\" << endl;\n",
    "    os << \"config.Site.storageSite = 'T3_IR_IPM'\" << endl;\n",
    "    fb.close();\n",
    "    ++i;\n",
    "}"
   ]
  },
  {
   "cell_type": "markdown",
   "metadata": {},
   "source": [
    "#  mu mu channel"
   ]
  },
  {
   "cell_type": "code",
   "execution_count": 12,
   "metadata": {
    "collapsed": true
   },
   "outputs": [],
   "source": [
    "i=0;\n",
    "for (std::vector<std::string>::const_iterator it = MCSamples.begin(); it != MCSamples.end(); ++it)\n",
    "{\n",
    "    std::size_t found = it->find(\"madgraph\");\n",
    "    std::size_t found2 = it->find(\"amcatnlo\");\n",
    "\n",
    "    std::filebuf fb;\n",
    "    std::string str = \"crab_MC_DiMu_\" + std::to_string(i)+\".py\";\n",
    "    fb.open (str,std::ios::out);\n",
    "    std::ostream os(&fb);\n",
    "    os << \"from CRABClient.UserUtilities import config, getUsernameFromSiteDB\" << endl;\n",
    "    os << \"config = config()\" << endl;\n",
    "    os << \"config.General.requestName   = 'crabMC'\" << endl;\n",
    "    os << \"config.General.workArea = 'crab_projects'\" << endl;\n",
    "    os << \"config.General.transferOutputs = True \" << endl;\n",
    "    os << \"config.General.transferLogs = False \" << endl;\n",
    "    os << \"config.JobType.pluginName = 'Analysis' \" << endl;\n",
    "    if(found != std::string::npos ){\n",
    "    os << \"config.JobType.psetName = 'test/whelicity_madgraph_DiMu_cfg.py' \" << endl;\n",
    "    }\n",
    "    else if(found2 != std::string::npos ){\n",
    "    os << \"config.JobType.psetName = 'test/whelicity_madgraph_DiMu_cfg.py' \" << endl;\n",
    "    }\n",
    "    else\n",
    "    {\n",
    "    os << \"config.JobType.psetName = 'test/whelicity_pythia_DiMu_cfg.py' \" << endl;\n",
    "    }\n",
    "    os << \"config.JobType.inputFiles  = ['Spring16_25nsV6_DATA_SF_AK4PFchs.txt','Spring16_25nsV6_DATA_PtResolution_AK4PFchs.txt','Spring16_25nsV6_DATA_PhiResolution_AK4PFchs.txt','pileup_distribution_moriond17.root','pileup_distribution_data16.root','Spring16_25nsV10_MC_PhiResolution_AK4PFchs.txt','Spring16_25nsV10_MC_PtResolution_AK4PFchs.txt','Spring16_25nsV10_MC_SF_AK4PFchs.txt','egammaEffi.txt_EGM2D.root','ISOEfficienciesAndSF_BCDEF.root','IDEfficienciesAndSF_BCDEF.root','TkegammaEffi.txt_EGM2D.root','Tracking_EfficienciesAndSF_BCDEFGH.root','CSVv2_Moriond17_B_H.csv','ISOEfficienciesAndSF_GH.root','IDEfficienciesAndSF_GH.root','triggerSummary_ee.root','triggerSummary_emu.root','triggerSummary_mumu.root'] \" << endl;\n",
    "    os << \"config.JobType.outputFiles = ['tree.root','sanityCheckHistos.root']\" << endl;\n",
    "    os << \"config.Data.inputDataset = '\" + *it +\"'\" << endl;\n",
    "    os << \"config.Data.inputDBS = 'global'\"  << endl;\n",
    "    os << \"config.Data.splitting = 'FileBased'\" << endl;\n",
    "    os << \"config.Data.unitsPerJob = 1\" << endl;\n",
    "    os << \"config.Data.outLFNDirBase = '/store/user/%s/' % (getUsernameFromSiteDB())\" << endl;\n",
    "    os << \"config.Data.outputDatasetTag = 'MC'\" << endl;\n",
    "    os << \"config.Site.blacklist = ['T2_US_*']\" << endl;\n",
    "    os << \"config.Site.storageSite = 'T3_IR_IPM'\" << endl;\n",
    "    fb.close();\n",
    "    ++i;\n",
    "}"
   ]
  },
  {
   "cell_type": "code",
   "execution_count": 13,
   "metadata": {
    "collapsed": true
   },
   "outputs": [],
   "source": [
    "i=0;\n",
    "for (std::vector<std::string>::const_iterator it = MCSamples.begin(); it != MCSamples.end(); ++it)\n",
    "{\n",
    "    std::size_t found = it->find(\"madgraph\");\n",
    "    std::size_t found2 = it->find(\"amcatnlo\");\n",
    "\n",
    "    std::filebuf fb;\n",
    "    std::string str = \"crab_MC_DiMu_GH_\" + std::to_string(i)+\".py\";\n",
    "    fb.open (str,std::ios::out);\n",
    "    std::ostream os(&fb);\n",
    "    os << \"from CRABClient.UserUtilities import config, getUsernameFromSiteDB\" << endl;\n",
    "    os << \"config = config()\" << endl;\n",
    "    os << \"config.General.requestName   = 'crabMC'\" << endl;\n",
    "    os << \"config.General.workArea = 'crab_projects'\" << endl;\n",
    "    os << \"config.General.transferOutputs = True \" << endl;\n",
    "    os << \"config.General.transferLogs = False \" << endl;\n",
    "    os << \"config.JobType.pluginName = 'Analysis' \" << endl;\n",
    "    if(found != std::string::npos ){\n",
    "    os << \"config.JobType.psetName = 'test/whelicity_madgraph_DiMu_GH_cfg.py' \" << endl;\n",
    "    }\n",
    "    else if(found2 != std::string::npos ){\n",
    "    os << \"config.JobType.psetName = 'test/whelicity_madgraph_DiMu_GH_cfg.py' \" << endl;\n",
    "    }\n",
    "    else\n",
    "    {\n",
    "    os << \"config.JobType.psetName = 'test/whelicity_pythia_DiMu_GH_cfg.py' \" << endl;\n",
    "    }\n",
    "    os << \"config.JobType.inputFiles  = ['Spring16_25nsV6_DATA_SF_AK4PFchs.txt','Spring16_25nsV6_DATA_PtResolution_AK4PFchs.txt','Spring16_25nsV6_DATA_PhiResolution_AK4PFchs.txt','pileup_distribution_moriond17.root','pileup_distribution_data16.root','Spring16_25nsV10_MC_PhiResolution_AK4PFchs.txt','Spring16_25nsV10_MC_PtResolution_AK4PFchs.txt','Spring16_25nsV10_MC_SF_AK4PFchs.txt','egammaEffi.txt_EGM2D.root','ISOEfficienciesAndSF_BCDEF.root','IDEfficienciesAndSF_BCDEF.root','TkegammaEffi.txt_EGM2D.root','Tracking_EfficienciesAndSF_BCDEFGH.root','CSVv2_Moriond17_B_H.csv','ISOEfficienciesAndSF_GH.root','IDEfficienciesAndSF_GH.root','triggerSummary_ee.root','triggerSummary_emu.root','triggerSummary_mumu.root'] \" << endl;\n",
    "    os << \"config.JobType.outputFiles = ['tree.root','sanityCheckHistos.root']\" << endl;\n",
    "    os << \"config.Data.inputDataset = '\" + *it +\"'\" << endl;\n",
    "    os << \"config.Data.inputDBS = 'global'\"  << endl;\n",
    "    os << \"config.Data.splitting = 'FileBased'\" << endl;\n",
    "    os << \"config.Data.unitsPerJob = 1\" << endl;\n",
    "    os << \"config.Data.outLFNDirBase = '/store/user/%s/' % (getUsernameFromSiteDB())\" << endl;\n",
    "    os << \"config.Data.outputDatasetTag = 'MC'\" << endl;\n",
    "    os << \"config.Site.blacklist = ['T2_US_*']\" << endl;\n",
    "    os << \"config.Site.storageSite = 'T3_IR_IPM'\" << endl;\n",
    "    fb.close();\n",
    "    ++i;\n",
    "}"
   ]
  },
  {
   "cell_type": "code",
   "execution_count": null,
   "metadata": {
    "collapsed": true
   },
   "outputs": [],
   "source": []
  },
  {
   "cell_type": "code",
   "execution_count": null,
   "metadata": {
    "collapsed": true
   },
   "outputs": [],
   "source": []
  },
  {
   "cell_type": "code",
   "execution_count": null,
   "metadata": {
    "collapsed": true
   },
   "outputs": [],
   "source": []
  }
 ],
 "metadata": {
  "anaconda-cloud": {},
  "kernelspec": {
   "display_name": "ROOT C++",
   "language": "c++",
   "name": "root"
  },
  "language_info": {
   "codemirror_mode": "text/x-c++src",
   "file_extension": ".C",
   "mimetype": " text/x-c++src",
   "name": "c++"
  }
 },
 "nbformat": 4,
 "nbformat_minor": 1
}
